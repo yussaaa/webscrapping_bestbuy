{
 "cells": [
  {
   "cell_type": "markdown",
   "metadata": {},
   "source": [
    "## Reference: \n",
    "1. Selenium and BS4: https://www.edureka.co/blog/web-scraping-with-python/\n",
    "2. Potential automatically more button clicking: https://www.pythonfixing.com/2022/03/fixed-scraping-webpage-with-show-more.html\n"
   ]
  },
  {
   "cell_type": "code",
   "execution_count": 49,
   "metadata": {},
   "outputs": [],
   "source": [
    "import scrapy\n",
    "import requests\n",
    "from bs4 import BeautifulSoup\n",
    "from urllib.request import urlopen\n",
    "from selenium import webdriver\n",
    "from selenium.webdriver.chrome.service import Service\n",
    "from webdriver_manager.chrome import ChromeDriverManager\n",
    "from selenium.webdriver.common.by import By\n",
    "\n",
    "import json \n"
   ]
  },
  {
   "cell_type": "code",
   "execution_count": 2,
   "metadata": {},
   "outputs": [
    {
     "name": "stdout",
     "output_type": "stream",
     "text": [
      "\n"
     ]
    }
   ],
   "source": [
    "# driver = webdriver.Chrome(\"/opt/homebrew/Caskroom/chromedriver/103.0.5060.134/chromedriver\")\n",
    "driver = webdriver.Chrome(service=Service(ChromeDriverManager().install()))\n",
    "## bestbuy latops home page \n",
    "driver.get(\"https://www.bestbuy.ca/en-ca/category/laptops/36711\")\n",
    "\n",
    "content = driver.page_source\n",
    "soup = BeautifulSoup(content)\n"
   ]
  },
  {
   "cell_type": "code",
   "execution_count": 4,
   "metadata": {},
   "outputs": [],
   "source": [
    "## Parse all the products on the main page, manually clicked the show more button several times to get 10 pages \n",
    "domin_name = 'https://www.bestbuy.ca'\n",
    "\n",
    "list_products_on_one_page = []\n",
    "\n",
    "container = soup.find('div', attrs={'class':'productsRow_DcaXn row_1mOdd'})\n",
    "for prod in container.findAll('a', href=True,attrs={'class':'link_3hcyN'}): \n",
    "    list_products_on_one_page.append(domin_name + prod['href'])\n",
    "\n",
    "## Filter out the beginning 5 general pages(desktops, 2-in-1s, ...)\n",
    "list_products_on_one_page_short = list_products_on_one_page[5:]\n"
   ]
  },
  {
   "cell_type": "code",
   "execution_count": 68,
   "metadata": {},
   "outputs": [
    {
     "name": "stdout",
     "output_type": "stream",
     "text": [
      "This page can't be parsed using this approach\n",
      "This page can't be parsed using this approach\n",
      "This page can't be parsed using this approach\n",
      "This page can't be parsed using this approach\n",
      "This page can't be parsed using this approach\n"
     ]
    }
   ],
   "source": [
    "# Parse the products names and specs as needed\n",
    "\n",
    "output = []\n",
    "\n",
    "for i, link in enumerate(list_products_on_one_page_short):\n",
    "    driver.get(str(link))\n",
    "    content = driver.page_source\n",
    "    soup = BeautifulSoup(content)\n",
    "\n",
    "    info = ''\n",
    "    try: \n",
    "        prod_name = soup.find('h1', attrs={'class':'productName_2KoPa'},string=True).text\n",
    "        info += prod_name + ' '\n",
    "        for i in soup.find_all('div', attrs={'class':'itemContainer_uqm6b'}):\n",
    "            item_name = i.find('div', attrs={'class':'itemName_GaNqp'}).text\n",
    "            item_value = i.find('div', attrs={'class':'itemValue_3FLTX'}).text\n",
    "            # specs_table[item_name] = item_value\n",
    "            info += item_name + ': ' + item_value + ', '\n",
    "            # products.append(name.text)\n",
    "\n",
    "        output.append(info)\n",
    "    except:\n",
    "        print(f\"This page {i} can't be parsed using this approach\")"
   ]
  },
  {
   "cell_type": "code",
   "execution_count": 71,
   "metadata": {},
   "outputs": [],
   "source": [
    "## Write to txt file for azure language service\n",
    "for idx, record in enumerate(output):\n",
    "\n",
    "    try:\n",
    "        with open(f'raw_txt/product_{idx}.txt', 'w') as f:\n",
    "            f.write(record)\n",
    "    except FileNotFoundError:\n",
    "        print(\"The directory does not exist\")"
   ]
  },
  {
   "cell_type": "code",
   "execution_count": null,
   "metadata": {},
   "outputs": [],
   "source": []
  },
  {
   "cell_type": "code",
   "execution_count": null,
   "metadata": {},
   "outputs": [],
   "source": []
  },
  {
   "cell_type": "code",
   "execution_count": null,
   "metadata": {},
   "outputs": [],
   "source": []
  },
  {
   "cell_type": "code",
   "execution_count": null,
   "metadata": {},
   "outputs": [],
   "source": [
    "## potential way to use multiple windows, not implemented till the end \n",
    "\n",
    "list_of_links = driver.find_element(By.CLASS_NAME, \"link_3hcyN\")\n",
    "cur_win = driver.current_window_handle # get current/main window\n",
    "\n",
    "for link in list_of_links:\n",
    "    (domin_name + link['href']).click()\n",
    "    driver.switch_to_window([win for win in driver.window_handles if win !=cur_win][0]) # switch to new window\n",
    "    date = driver.find_elements_by_class_name(\"productName_2KoPa\")\n",
    "    # for d in date:\n",
    "    print(date.text)\n",
    "    driver.close() # close new window\n",
    "    driver.switch_to_window(cur_win) # switch back to main window\n"
   ]
  }
 ],
 "metadata": {
  "kernelspec": {
   "display_name": "Python 3.10.4 ('env_basic')",
   "language": "python",
   "name": "python3"
  },
  "language_info": {
   "codemirror_mode": {
    "name": "ipython",
    "version": 3
   },
   "file_extension": ".py",
   "mimetype": "text/x-python",
   "name": "python",
   "nbconvert_exporter": "python",
   "pygments_lexer": "ipython3",
   "version": "3.10.4"
  },
  "vscode": {
   "interpreter": {
    "hash": "3149f3a361fba46bad6dc7a5d2004ab69107ccc07a040ccdf409a08f8a37fd17"
   }
  }
 },
 "nbformat": 4,
 "nbformat_minor": 4
}
